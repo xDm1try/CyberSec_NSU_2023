{
 "cells": [
  {
   "cell_type": "code",
   "execution_count": 92,
   "metadata": {},
   "outputs": [],
   "source": [
    "import bitarray\n",
    "import struct\n",
    "import numpy as np\n",
    "def print_hex_bytes(src):\n",
    "    for i in range(8):\n",
    "        str = src[i*8:(i+1)*8]\n",
    "        print(' '.join('{:02X}'.format(a) for a in str))"
   ]
  },
  {
   "cell_type": "code",
   "execution_count": 93,
   "metadata": {},
   "outputs": [
    {
     "name": "stdout",
     "output_type": "stream",
     "text": [
      "0\n"
     ]
    },
    {
     "data": {
      "text/plain": [
       "array([[24, 13,  8, 47,  8, 17, 22, 37],\n",
       "       [38, 19, 10, 55, 49, 18, 23, 52],\n",
       "       [33,  4, 51, 13, 34, 41, 59, 17],\n",
       "       [ 5, 20, 48, 41, 47, 28, 16, 25],\n",
       "       [41,  9, 37, 31, 12, 47, 44, 30],\n",
       "       [16, 34, 56, 51,  4, 53, 42, 41],\n",
       "       [31, 44, 47, 46, 19, 42, 44, 25],\n",
       "       [ 9, 48, 35, 52, 23, 31, 37, 20]], dtype=uint64)"
      ]
     },
     "execution_count": 93,
     "metadata": {},
     "output_type": "execute_result"
    }
   ],
   "source": [
    "file = open(\"test.txt\", mode=\"rb\")\n",
    "words = np.fromfile(file, dtype=np.uint64)\n",
    "file.close()\n",
    "block = words[:16]\n",
    "answer = np.zeros_like(words)\n",
    "Nw = 16\n",
    "kNw = np.array(0, dtype=np.uint64)\n",
    "print(kNw)\n",
    "#kNw = 0\n",
    "Nr = 80\n",
    "t = np.zeros(3, dtype=np.uint8)\n",
    "subKeys = np.zeros((Nr//4+1, Nw), dtype=np.uint64)\n",
    "C240 = np.array(0x1bd11bdaa9fc1a22, np.uint64)\n",
    "\n",
    "t[0] = 38\n",
    "t[1] = 111\n",
    "\n",
    "R = np.zeros([8,8],  dtype = np.uint64)\n",
    "R[0] = [24, 13, 8, 47, 8, 17, 22, 37]\n",
    "R[1] = [38, 19, 10, 55, 49, 18, 23, 52]\n",
    "R[2] = [33, 4, 51, 13, 34, 41, 59, 17]\n",
    "R[3] = [5, 20, 48, 41, 47, 28, 16, 25]\n",
    "R[4] = [41, 9, 37, 31, 12, 47, 44, 30]\n",
    "R[5] = [16, 34, 56, 51, 4, 53, 42, 41]\n",
    "R[6] = [31, 44, 47, 46, 19, 42, 44, 25]\n",
    "R[7] = [9, 48, 35, 52, 23, 31, 37, 20] \n",
    "\n",
    "pi = np.array([0, 9, 2, 13, 6, 11, 4, 15, 10, 7, 12, 3, 14, 5, 8, 1])\n",
    "R"
   ]
  },
  {
   "cell_type": "code",
   "execution_count": 94,
   "metadata": {},
   "outputs": [
    {
     "data": {
      "text/plain": [
       "array([3290013473472425389, 3070657282893845114, 3290013473472425389,\n",
       "       3070657282893845114, 3290013473472425389, 3070657282893845114,\n",
       "       3290013473472425389, 3070657282893845114, 3290013473472425389,\n",
       "       3070657282893845114, 3290013473472425389, 3070657282893845114,\n",
       "       3290013473472425389, 3070657282893845114, 3290013473472425389,\n",
       "       3070657282893845114, 2004413935125273122], dtype=uint64)"
      ]
     },
     "execution_count": 94,
     "metadata": {},
     "output_type": "execute_result"
    }
   ],
   "source": [
    "keys = np.copy(block)\n",
    "kNw = C240\n",
    "for i in range(Nw):\n",
    "    kNw ^= np.uint64(keys[i])\n",
    "\n",
    "keys = np.append(keys, kNw)\n",
    "\n",
    "t[2] = t[0] ^ t[1]\n",
    "\n",
    "keys"
   ]
  },
  {
   "cell_type": "code",
   "execution_count": 95,
   "metadata": {},
   "outputs": [],
   "source": [
    "for round in range((Nr // 4) + 1):\n",
    "  for i in range(Nw):\n",
    "    subKeys[round][i] = keys[(round + i) % (Nw + 1)]\n",
    "    if Nw - 1:\n",
    "        subKeys[round][i] += round\n",
    "    elif Nw - 2:\n",
    "        subKeys[round][i] += t[(round + 1) % 3]\n",
    "    elif Nw - 3:\n",
    "        subKeys[round][i] += t[round % 3]    "
   ]
  },
  {
   "cell_type": "code",
   "execution_count": 96,
   "metadata": {},
   "outputs": [],
   "source": [
    "def MIX(x0, x1, r):\n",
    "    y0 = x0 + x1\n",
    "    y1 = (x1 << np.uint64(r)) | (x1 >> np.uint64(64 - r))\n",
    "    y1 ^= y0\n",
    "    return (y0, y1)\n"
   ]
  },
  {
   "cell_type": "code",
   "execution_count": 97,
   "metadata": {},
   "outputs": [],
   "source": [
    "def deMIX(x0, x1, r):\n",
    "    x1 ^= x0\n",
    "    y1 = (x1 << np.uint64(64 - r)) | (x1 >> np.uint64(r))\n",
    "    y0 = x0 - y1\n",
    "    return (y0, y1) "
   ]
  },
  {
   "cell_type": "code",
   "execution_count": 98,
   "metadata": {},
   "outputs": [],
   "source": [
    "def crypt(block):\n",
    "    e = np.zeros(Nw, dtype=np.uint64)\n",
    "    f = np.zeros(Nw, dtype=np.uint64)\n",
    "    v = np.copy(block)\n",
    "\n",
    "    for round in range(Nr):\n",
    "        if round % 4 == 0:\n",
    "            s = round // 4\n",
    "            for i in range(Nw):\n",
    "                e[i] = v[i] + subKeys[s][i]\n",
    "        else:\n",
    "            for i in range(Nw):\n",
    "                e[i] = v[i]\n",
    "        \n",
    "        for i in range(Nw//2):\n",
    "            x0 = np.copy(e[i*2])\n",
    "            x1 = np.copy(e[i*2 + 1])\n",
    "            f[i * 2], f[i * 2 + 1] = MIX(x0, x1, R[round % 8][i])\n",
    "        for i in range(Nw):\n",
    "            v[i] = f[p[i]]\n",
    "\n",
    "    newBlock = np.zeros_like(block)\n",
    "    for i in range(Nw):\n",
    "        newBlock[i] = v[i] + subKeys[Nr//4][i]\n",
    "    return newBlock\n",
    "\n"
   ]
  },
  {
   "cell_type": "code",
   "execution_count": 99,
   "metadata": {},
   "outputs": [],
   "source": [
    "def decrypt(block):\n",
    "    e = np.zeros(Nw, dtype=np.uint64)\n",
    "    f = np.zeros(Nw, dtype=np.uint64)\n",
    "    v = np.copy(block)\n",
    "    \n",
    "    for round in range(Nr-1, 0-1, -1):\n",
    "        if round % 4 == 0:\n",
    "            s = round//4\n",
    "            for i in range(Nw):\n",
    "                f[i] = v[i] - subKeys[s][i]\n",
    "        else:\n",
    "            for i in range(Nw):\n",
    "                f[i] = v[i]\n",
    "        \n",
    "        for i in range(Nw):\n",
    "            e[i] = f[p[i]]\n",
    "\n",
    "        for i in range(Nw//2):\n",
    "            v[i * 2], v[i * 2 + 1] = deMIX(e[i * 2], e[i * 2 + 1], R[(round-1) % 8][i])\n",
    "\n",
    "    newBlock = np.zeros_like(block)\n",
    "    for i in range(Nw):\n",
    "        newBlock[i] = v[i] - subKeys[0][i]\n",
    "    return newBlock"
   ]
  },
  {
   "cell_type": "code",
   "execution_count": 100,
   "metadata": {},
   "outputs": [
    {
     "name": "stdout",
     "output_type": "stream",
     "text": [
      "Block: \n",
      "2DA879D2A892ADAD 2A9D2A879DDA927A 2DA879D2A892ADAD 2A9D2A879DDA927A 2DA879D2A892ADAD 2A9D2A879DDA927A 2DA879D2A892ADAD 2A9D2A879DDA927A\n",
      "2DA879D2A892ADAD 2A9D2A879DDA927A 2DA879D2A892ADAD 2A9D2A879DDA927A 2DA879D2A892ADAD 2A9D2A879DDA927A 2DA879D2A892ADAD 2A9D2A879DDA927A\n",
      "\n",
      "\n",
      "\n",
      "\n",
      "\n",
      "\n",
      "Crypted: \n",
      "66680AC4852C7354 599EB18885C7D01A 5937019A149BC056 5CFB18942975756B 18EF74E4F377E47D B07CAA21F1DD75CA 8C52D2BF1064787F 333648C34625CA08\n",
      "101E517DBE9F6F 6DD17F4BE32E67FE 920BA2B65F2FA177 383937C8CC6B1BF4 26431B49E06F6137 F4DBFF1CE007149B BA1571D41ED5C667 1C0976307656256F\n",
      "\n",
      "\n",
      "\n",
      "\n",
      "\n",
      "\n",
      "decrypted block\n",
      "B9FFEC9E3E31459A 1A7F6930DF8F3E16 F59073008F4E364D C5FC72CB42421175 62D350FF730E99ED FC2A274C4F9DC59F 8311481ABE973C58 16775E234F0708B7\n",
      "3FE9FBC7E22CC06D 893D9645D81804DB 88625CFFD9FD4EE A7368990D1186E41 9D03448244B00465 9C9AA1DFD1FBD49 C7C5E2D9600CF935 5B67D07CD52618BB\n",
      "\n",
      "\n",
      "\n",
      "\n",
      "\n",
      "\n"
     ]
    },
    {
     "name": "stderr",
     "output_type": "stream",
     "text": [
      "C:\\Users\\Murav\\AppData\\Local\\Temp\\ipykernel_2804\\4242785412.py:10: RuntimeWarning: overflow encountered in scalar add\n",
      "  e[i] = v[i] + subKeys[s][i]\n",
      "C:\\Users\\Murav\\AppData\\Local\\Temp\\ipykernel_2804\\4242785412.py:24: RuntimeWarning: overflow encountered in scalar add\n",
      "  newBlock[i] = v[i] + subKeys[Nr//4][i]\n",
      "C:\\Users\\Murav\\AppData\\Local\\Temp\\ipykernel_2804\\2624641330.py:4: RuntimeWarning: overflow encountered in scalar subtract\n",
      "  y0 = x0 - y1\n",
      "C:\\Users\\Murav\\AppData\\Local\\Temp\\ipykernel_2804\\45127739.py:10: RuntimeWarning: overflow encountered in scalar subtract\n",
      "  f[i] = v[i] - subKeys[s][i]\n",
      "C:\\Users\\Murav\\AppData\\Local\\Temp\\ipykernel_2804\\45127739.py:23: RuntimeWarning: overflow encountered in scalar subtract\n",
      "  newBlock[i] = v[i] - subKeys[0][i]\n"
     ]
    }
   ],
   "source": [
    "block = words[:16]\n",
    "print(f\"Block: \")\n",
    "print_hex_bytes(block)\n",
    "\n",
    "crypted = crypt(block)\n",
    "print(f\"Crypted: \")\n",
    "print_hex_bytes(crypted)\n",
    "\n",
    "print(f\"decrypted block\")\n",
    "print_hex_bytes(decrypt(crypted))\n"
   ]
  }
 ],
 "metadata": {
  "kernelspec": {
   "display_name": "Python 3",
   "language": "python",
   "name": "python3"
  },
  "language_info": {
   "codemirror_mode": {
    "name": "ipython",
    "version": 3
   },
   "file_extension": ".py",
   "mimetype": "text/x-python",
   "name": "python",
   "nbconvert_exporter": "python",
   "pygments_lexer": "ipython3",
   "version": "3.10.11"
  }
 },
 "nbformat": 4,
 "nbformat_minor": 2
}
