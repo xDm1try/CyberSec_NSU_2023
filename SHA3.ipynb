{
 "cells": [
  {
   "cell_type": "code",
   "execution_count": 1,
   "metadata": {},
   "outputs": [],
   "source": [
    "import bitarray\n",
    "\n",
    "def print_hex_bytes(src):\n",
    "    for i in range(16):\n",
    "        str = src[i*16:(i+1)*16]\n",
    "        print(' '.join('{:02X}'.format(a) for a in str))"
   ]
  },
  {
   "cell_type": "code",
   "execution_count": 2,
   "metadata": {},
   "outputs": [],
   "source": [
    "rate = 1088"
   ]
  },
  {
   "cell_type": "code",
   "execution_count": 3,
   "metadata": {},
   "outputs": [],
   "source": [
    "def take_by_ijk(x,y,z):\n",
    "    return 64*(5*y + x) + z"
   ]
  },
  {
   "cell_type": "code",
   "execution_count": 4,
   "metadata": {},
   "outputs": [],
   "source": [
    "def pad10x1(x, m):   \n",
    "    j = (-m-2)%x\n",
    "    if j < 0:\n",
    "        j += x\n",
    "    additional = bitarray.bitarray(j + 2, endian=\"little\")\n",
    "    additional.setall(False)\n",
    "    additional[0] = True\n",
    "    additional[j+1] = True\n",
    "    return additional"
   ]
  },
  {
   "cell_type": "code",
   "execution_count": 5,
   "metadata": {},
   "outputs": [],
   "source": [
    "def Theta(S):\n",
    "    new_S = bitarray.bitarray(endian=\"little\")\n",
    "    new_S = S.copy()\n",
    "    new_S.setall(False)\n",
    "    C = bitarray.bitarray(endian=\"little\")\n",
    "    C = S.copy()\n",
    "    C.setall(False)\n",
    "    D = bitarray.bitarray(endian=\"little\")\n",
    "    D = S.copy()\n",
    "    D.setall(False)\n",
    "\n",
    "    # S[take_by_ijk(x,y,z)] == A[x,y,z]\n",
    "\n",
    "    for x in range(5):\n",
    "        for z in range(64):\n",
    "            C[take_by_ijk(x,0,z)] = S[take_by_ijk(x,0,z)] ^ S[take_by_ijk(x,1,z)] ^ S[take_by_ijk(x,2,z)] ^ S[take_by_ijk(x,3,z)] ^ S[take_by_ijk(x,4,z)]\n",
    "\n",
    "    for x in range(5):\n",
    "        for z in range(64):\n",
    "            D[take_by_ijk(x,0,z)] = C[take_by_ijk((x-1) % 5,0,z)] ^ C[take_by_ijk((x+1) % 5,0,(z-1) % 64)]\n",
    "            for y in range(5):\n",
    "                new_S[take_by_ijk(x,y,z)] = S[take_by_ijk(x,y,z)] ^ D[take_by_ijk(x,0,z)]\n",
    "\n",
    "    return new_S        \n"
   ]
  },
  {
   "cell_type": "code",
   "execution_count": 6,
   "metadata": {},
   "outputs": [],
   "source": [
    "def Rho(S):\n",
    "    new_S = S.copy()\n",
    "    new_S.setall(False)\n",
    "    # for k in range(64):\n",
    "    #     new_S[take_by_ijk(0,0,k)] = S[take_by_ijk(0,0,k)]\n",
    "    new_S[:65] = S[:65]\n",
    "\n",
    "    i, j = 1, 0\n",
    "    for t in range(24):\n",
    "        for k in range(64):\n",
    "            idx = (t+1)*(t+2)//2\n",
    "            new_S[take_by_ijk(i,j,k)] = S[take_by_ijk(i,j, ((k-idx) % 64))]\n",
    "        i,j = j, (2*i + 3*j) % 5\n",
    "         \n",
    "    return new_S\n",
    "        "
   ]
  },
  {
   "cell_type": "code",
   "execution_count": 7,
   "metadata": {},
   "outputs": [],
   "source": [
    "def Pi(S):\n",
    "    new_S = S.copy()\n",
    "    new_S.setall(False)\n",
    "    for i in range(5):\n",
    "        for j in range(5):\n",
    "            for k in range(64):\n",
    "                new_S[take_by_ijk(i,j,k)] = S[take_by_ijk((i + 3*j) % 5, i, k)]\n",
    "    return new_S"
   ]
  },
  {
   "cell_type": "code",
   "execution_count": 8,
   "metadata": {},
   "outputs": [],
   "source": [
    "def Chi(S):\n",
    "    new_S = S.copy()\n",
    "    new_S.setall(False)\n",
    "    for i in range(5):\n",
    "        for j in range(5):\n",
    "            for k in range(64):\n",
    "                new_S[take_by_ijk(i,j,k)] = S[take_by_ijk(i,j,k)] ^ ((S[take_by_ijk((i+1)%5,j,k)] ^ 1) * S[take_by_ijk((i+2)%5, j, k)])\n",
    "    return new_S"
   ]
  },
  {
   "cell_type": "code",
   "execution_count": 9,
   "metadata": {},
   "outputs": [],
   "source": [
    "def rc(t):\n",
    "    if t % 255 == 0:\n",
    "        return 1\n",
    "    R = bitarray.bitarray(8, endian=\"little\")\n",
    "    R.setall(False)\n",
    "    R[0] = True\n",
    "    for i in range(1, t % 255 + 1):\n",
    "        R.insert(0, False)\n",
    "        R[0] = R[0] ^ R[8]\n",
    "        R[4] = R[4] ^ R[8]\n",
    "        R[5] = R[5] ^ R[8]\n",
    "        R[6] = R[6] ^ R[8]\n",
    "        R = R[0:8]\n",
    "        \n",
    "    return R[0]"
   ]
  },
  {
   "cell_type": "code",
   "execution_count": 10,
   "metadata": {},
   "outputs": [],
   "source": [
    "def Iota(S, Ir):\n",
    "    new_S = S.copy()\n",
    "    array_rc = bitarray.bitarray(64, endian=\"little\")\n",
    "    array_rc.setall(False)\n",
    "    for j in range(6+1):\n",
    "        array_rc[(2 ** j) - 1] = rc(j + 7 * Ir)\n",
    "    \n",
    "    for k in range(64):\n",
    "        old_digit = new_S[take_by_ijk(0,0,k)]\n",
    "        new_S[take_by_ijk(0,0,k)] = old_digit ^ array_rc[k]\n",
    "    \n",
    "    return new_S"
   ]
  },
  {
   "cell_type": "code",
   "execution_count": 11,
   "metadata": {},
   "outputs": [],
   "source": [
    "def Rnd(S, Ir):\n",
    "    res_Theta = Theta(S)\n",
    "    res_Rho = Rho(res_Theta)\n",
    "    res_Pi = Pi(res_Rho)\n",
    "    res_interim = Chi(res_Pi)\n",
    "    res = Iota(res_interim, Ir)\n",
    "    return res"
   ]
  },
  {
   "cell_type": "code",
   "execution_count": 12,
   "metadata": {},
   "outputs": [],
   "source": [
    "def Keccak_p(S):\n",
    "    new_S = bitarray.bitarray(endian=\"little\")\n",
    "    new_S = S.copy()\n",
    "    for ir in range(24):  \n",
    "        new_S = Rnd(new_S, ir)\n",
    "    return new_S"
   ]
  },
  {
   "cell_type": "code",
   "execution_count": 13,
   "metadata": {},
   "outputs": [],
   "source": [
    "def Keccak_f(b):\n",
    "    return Keccak_p(b)"
   ]
  },
  {
   "cell_type": "code",
   "execution_count": 14,
   "metadata": {},
   "outputs": [],
   "source": [
    "def Sponge(N, d):\n",
    "    P = bitarray.bitarray(endian=\"little\")\n",
    "    P = N.copy()\n",
    "    extended = pad10x1(rate, len(N))\n",
    "    P.extend(extended)\n",
    "    n = len(P)/rate\n",
    "    c = d - rate\n",
    "    zeros_S = bitarray.bitarray(d, endian=\"little\")\n",
    "    zeros_S.setall(False)\n",
    "    \n",
    "    if len(P) % rate == 0:\n",
    "        n = int(n)\n",
    "    else:\n",
    "        print(\"IN SPONGE: \", len(P), \" / \", rate, ' = ', n)\n",
    "        \n",
    "    for i in range(n): \n",
    "        Pi = P[i * rate : (i+1) * rate]\n",
    "        c_zeros = bitarray.bitarray(c, endian=\"little\")\n",
    "        c_zeros.setall(False)\n",
    "        Pi.extend(c_zeros)\n",
    "        spacing = zeros_S ^ Pi\n",
    "        zeros_S = Keccak_f(spacing)\n",
    "\n",
    "    return zeros_S[0:256]\n"
   ]
  },
  {
   "cell_type": "code",
   "execution_count": 15,
   "metadata": {},
   "outputs": [],
   "source": [
    "def Keccak(N,d):\n",
    "    N.extend([0,1])\n",
    "    res = Sponge(N,d)\n",
    "    return res"
   ]
  },
  {
   "cell_type": "code",
   "execution_count": 16,
   "metadata": {},
   "outputs": [],
   "source": [
    "def SHA3_256(M,d):\n",
    "    return Keccak(M,d)"
   ]
  },
  {
   "cell_type": "code",
   "execution_count": 17,
   "metadata": {},
   "outputs": [],
   "source": [
    "file = open(\"test.txt\", mode=\"rb\")\n",
    "source_bitArray = bitarray.bitarray(endian=\"little\")\n",
    "source_bitArray.fromfile(file)\n",
    "file.close()\n",
    "msg30 = bitarray.bitarray(endian=\"little\")\n",
    "msg30.extend([1,1,0,0,1,0,1,0,0,0,0,1,1,0,1,0,1,1,0,1,1,1,1,0,1,0,0,1,1,0])\n",
    "msg5 = bitarray.bitarray(endian=\"little\")\n",
    "msg5.extend([1,1,0,0,1])\n",
    "msg0 = bitarray.bitarray(endian=\"little\")\n"
   ]
  },
  {
   "cell_type": "code",
   "execution_count": 18,
   "metadata": {},
   "outputs": [
    {
     "name": "stdout",
     "output_type": "stream",
     "text": [
      "A7 FF C6 F8 BF 1E D7 66 51 C1 47 56 A0 61 D6 62\n",
      "F5 80 FF 4D E4 3B 49 FA 82 D8 0A 4B 80 F8 43 4A\n",
      "\n",
      "\n",
      "\n",
      "\n",
      "\n",
      "\n",
      "\n",
      "\n",
      "\n",
      "\n",
      "\n",
      "\n",
      "\n",
      "\n"
     ]
    }
   ],
   "source": [
    "res = bitarray.bitarray()\n",
    "res = SHA3_256(msg0, 1600)\n",
    "print_hex_bytes(res.tobytes())\n",
    "result_file = open(\"sha3_hash.txt\", mode=\"wb\")\n",
    "result_file.write(res)\n",
    "result_file.close()"
   ]
  }
 ],
 "metadata": {
  "kernelspec": {
   "display_name": "base",
   "language": "python",
   "name": "python3"
  },
  "language_info": {
   "codemirror_mode": {
    "name": "ipython",
    "version": 3
   },
   "file_extension": ".py",
   "mimetype": "text/x-python",
   "name": "python",
   "nbconvert_exporter": "python",
   "pygments_lexer": "ipython3",
   "version": "3.10.11"
  }
 },
 "nbformat": 4,
 "nbformat_minor": 2
}
