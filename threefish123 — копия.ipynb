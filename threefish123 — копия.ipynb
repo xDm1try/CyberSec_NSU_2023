{
 "cells": [
  {
   "cell_type": "code",
   "execution_count": 394,
   "metadata": {},
   "outputs": [],
   "source": [
    "import bitarray\n",
    "import struct\n",
    "import numpy as np\n",
    "\n",
    "def print_hex_bytes(src):\n",
    "    for i in range(8):\n",
    "        str = src[i*8:(i+1)*8]\n",
    "        print(' '.join('{:02X}'.format(a) for a in str))"
   ]
  },
  {
   "cell_type": "code",
   "execution_count": 395,
   "metadata": {},
   "outputs": [],
   "source": [
    "R = [[14, 16],\n",
    "     [52, 57],\n",
    "     [23, 40],\n",
    "     [5, 37],\n",
    "     [25, 33],\n",
    "     [46, 12],\n",
    "     [58, 22],\n",
    "     [32, 32]]\n",
    "\n",
    "C240 = 0x1BD11BDAA9FC1A22\n",
    "Nw = 4\n",
    "Nr = 72\n",
    "pi = [0,3,2,1]\n",
    "block_length = 32"
   ]
  },
  {
   "cell_type": "code",
   "execution_count": 396,
   "metadata": {},
   "outputs": [
    {
     "name": "stdout",
     "output_type": "stream",
     "text": [
      "22\n"
     ]
    }
   ],
   "source": [
    "file = open(\"test.txt\", \"rb\")\n",
    "data_bytes = np.fromfile(file, dtype=np.uint8)\n",
    "file.close()\n",
    "\n",
    "\n",
    "key = 'key of 32,64 or 128 bytes length'\n",
    "tweak = 'tweak: 16 bytes '\n",
    "\n",
    "key_bytes = np.frombuffer(bytearray(key, \"utf-8\"), dtype=np.uint8)\n",
    "tweak_bytes = np.frombuffer(bytearray(tweak, \"utf-8\"), dtype=np.uint8)\n",
    "print(len(data_bytes))"
   ]
  },
  {
   "cell_type": "code",
   "execution_count": 397,
   "metadata": {},
   "outputs": [
    {
     "name": "stdout",
     "output_type": "stream",
     "text": [
      "uint8\n",
      "22\n",
      "uint8\n",
      "32\n"
     ]
    }
   ],
   "source": [
    "data_length = len(data_bytes)\n",
    "print(np.dtype(data_bytes[0]))\n",
    "print(len(data_bytes))\n",
    "padding = block_length - (data_length % block_length)\n",
    "if padding == 1:\n",
    "    data_bytes = np.append(data_bytes, np.uint8(0x80))\n",
    "elif padding > 1 and padding < block_length:\n",
    "    data_bytes = np.append(data_bytes, np.uint8(0x80))\n",
    "    for i in range(padding - 1):\n",
    "        data_bytes = np.append(data_bytes, np.uint8(0x00))\n",
    "print(np.dtype(data_bytes[0]))\n",
    "print(len(data_bytes))\n"
   ]
  },
  {
   "cell_type": "code",
   "execution_count": 398,
   "metadata": {},
   "outputs": [
    {
     "name": "stderr",
     "output_type": "stream",
     "text": [
      "C:\\Users\\Murav\\AppData\\Local\\Temp\\ipykernel_7068\\4134362004.py:3: DeprecationWarning: Conversion of an array with ndim > 0 to a scalar is deprecated, and will error in future. Ensure you extract a single element from your array before performing this operation. (Deprecated NumPy 1.25.)\n",
      "  K[i] = np.frombuffer(key_bytes[i*8:i*(8)+8], np.uint64)\n"
     ]
    },
    {
     "data": {
      "text/plain": [
       "array([3684057122661295467, 2338053340664310834, 7310601557483467313,\n",
       "       7526754601088589939,  397175047584170297], dtype=uint64)"
      ]
     },
     "execution_count": 398,
     "metadata": {},
     "output_type": "execute_result"
    }
   ],
   "source": [
    "K = np.zeros((Nw+1), dtype=np.uint64)\n",
    "for i in range(Nw):\n",
    "    K[i] = np.frombuffer(key_bytes[i*8:i*(8)+8], np.uint64)\n",
    "\n",
    "K[4] = C240\n",
    "for i in range(Nw):\n",
    "    K[4] ^= K[i]\n",
    "\n",
    "K"
   ]
  },
  {
   "cell_type": "code",
   "execution_count": 399,
   "metadata": {},
   "outputs": [
    {
     "name": "stdout",
     "output_type": "stream",
     "text": [
      "3539893539983161204\n",
      "2338324182462505014\n",
      "1248446108863518530\n"
     ]
    },
    {
     "name": "stderr",
     "output_type": "stream",
     "text": [
      "C:\\Users\\Murav\\AppData\\Local\\Temp\\ipykernel_7068\\2277352110.py:3: DeprecationWarning: Conversion of an array with ndim > 0 to a scalar is deprecated, and will error in future. Ensure you extract a single element from your array before performing this operation. (Deprecated NumPy 1.25.)\n",
      "  T[i] = np.frombuffer(tweak_bytes[i*8:i*(8)+8], np.uint64)\n"
     ]
    }
   ],
   "source": [
    "T = np.zeros((3), dtype=np.uint64)\n",
    "for i in range(2):\n",
    "    T[i] = np.frombuffer(tweak_bytes[i*8:i*(8)+8], np.uint64)\n",
    "print(T[0])\n",
    "print(T[1])\n",
    "\n",
    "T[2] = T[0] ^ T[1]\n",
    "print(T[2])\n"
   ]
  },
  {
   "cell_type": "code",
   "execution_count": 400,
   "metadata": {},
   "outputs": [
    {
     "name": "stdout",
     "output_type": "stream",
     "text": [
      "[3539893539983161204 2338324182462505014 1248446108863518530]\n",
      "[3684057122661295467 2338053340664310834 7310601557483467313\n",
      " 7526754601088589939  397175047584170297]\n",
      "subKeys[0] = [3684057122661295467 5877946880647472038 9648925739945972327\n",
      " 7526754601088589939]\n",
      "subKeys[1] = [2338053340664310834 9648925739945972327 8775200709952108469\n",
      "  397175047584170298]\n",
      "subKeys[2] = [7310601557483467313 8775200709952108469 3937068587567331501\n",
      " 3684057122661295469]\n",
      "subKeys[3] = [7526754601088589939 3937068587567331501 6022381305123800481\n",
      " 2338053340664310837]\n",
      "subKeys[4] = [ 397175047584170297 6022381305123800481 3586499449527829364\n",
      " 7310601557483467317]\n",
      "subKeys[5] = [ 3684057122661295467  3586499449527829364 10850495097466628517\n",
      "  7526754601088589944]\n",
      "subKeys[6] = [ 2338053340664310834 10850495097466628517  9865078783551094953\n",
      "   397175047584170303]\n",
      "subKeys[7] = [7310601557483467313 9865078783551094953 1645621156447688827\n",
      " 3684057122661295474]\n",
      "subKeys[8] = [7526754601088589939 1645621156447688827 7223950662644456671\n",
      " 2338053340664310842]\n",
      "subKeys[9] = [ 397175047584170297 7223950662644456671 4676377523126815848\n",
      " 7310601557483467322]\n",
      "subKeys[10] = [3684057122661295467 4676377523126815848 8559047666346985843\n",
      " 7526754601088589949]\n",
      "subKeys[11] = [ 2338053340664310834  8559047666346985843 11066648141071751143\n",
      "   397175047584170308]\n",
      "subKeys[12] = [ 7310601557483467313 11066648141071751143  2735499230046675311\n",
      "  3684057122661295479]\n",
      "subKeys[13] = [7526754601088589939 2735499230046675311 4932503231524813997\n",
      " 2338053340664310847]\n",
      "subKeys[14] = [ 397175047584170297 4932503231524813997 5877946880647472038\n",
      " 7310601557483467327]\n",
      "subKeys[15] = [3684057122661295467 5877946880647472038 9648925739945972327\n",
      " 7526754601088589954]\n",
      "subKeys[16] = [2338053340664310834 9648925739945972327 8775200709952108469\n",
      "  397175047584170313]\n",
      "subKeys[17] = [7310601557483467313 8775200709952108469 3937068587567331501\n",
      " 3684057122661295484]\n",
      "subKeys[18] = [7526754601088589939 3937068587567331501 6022381305123800481\n",
      " 2338053340664310852]\n"
     ]
    }
   ],
   "source": [
    "subKeys = np.zeros((Nr//4+1, Nw), np.uint64)\n",
    "print(T)\n",
    "print(K)\n",
    "\n",
    "for round in range(np.uint64((Nr//4)+1)):\n",
    "    for i in range(Nw):\n",
    "        if i == 0:\n",
    "            subKeys[round][i] = K[(round + i) % 5]\n",
    "        elif i == 1:\n",
    "            subKeys[round][i] = (K[(round + i) % 5] + T[round % 3])\n",
    "        elif i == 2:\n",
    "            subKeys[round][i] = (K[(round + i) % 5] + T[(round + 1) % 3])\n",
    "        elif i == 3:\n",
    "            kval = K[(round + i) % 5]\n",
    "            value = kval + np.uint64(round)\n",
    "            #print(type(value), type(kval), type(round))\n",
    "            #print(f\"K[({round} + {i}) % {5}] = {K[(round + i) % 5]}\")\n",
    "            #print(f\"value = {value}\")\n",
    "            subKeys[round][i] = value\n",
    "            #print(f\"subKeys[{round}][{i}] = {subKeys[round][i]}\")\n",
    "            \n",
    "    print(f\"subKeys[{round}] = {subKeys[round]}\")"
   ]
  },
  {
   "cell_type": "code",
   "execution_count": 401,
   "metadata": {},
   "outputs": [
    {
     "data": {
      "text/plain": [
       "array([[4050765991979987505, 3906653019400122425,   36081784872711221,\n",
       "                          0]], dtype=uint64)"
      ]
     },
     "execution_count": 401,
     "metadata": {},
     "output_type": "execute_result"
    }
   ],
   "source": [
    "block_count = len(data_bytes) // (Nw * 8)\n",
    "data_blocks = np.zeros((block_count, Nw), np.uint64)\n",
    "\n",
    "for i in range(block_count):\n",
    "    new_block = np.zeros((0), dtype=np.uint64)\n",
    "    for word in range(Nw): \n",
    "        current_bytes = data_bytes[int(i*Nw + word*8): int(i*Nw+(word*8) + 8)]\n",
    "        new_unit = np.frombuffer(current_bytes, np.uint64) \n",
    "        new_block = np.append(new_block, new_unit)\n",
    "    data_blocks[i] = new_block\n",
    "\n",
    "\n",
    "data_blocks"
   ]
  },
  {
   "cell_type": "code",
   "execution_count": 402,
   "metadata": {},
   "outputs": [],
   "source": [
    "def MIX(x0, x1, r):\n",
    "    y0 = x0 + x1\n",
    "    y1 = (x1 << np.uint64(r)) | (x1 >> np.uint64(64 - r))\n",
    "    y1 ^= y0\n",
    "    return (y0, y1)\n",
    "\n",
    "def deMIX(x0, x1, r):\n",
    "    x1 ^= x0\n",
    "    y1 = (x1 << np.uint64(64 - r)) | (x1 >> np.uint64(r))\n",
    "    y0 = x0 - y1\n",
    "    return (y0, y1) "
   ]
  },
  {
   "cell_type": "code",
   "execution_count": 409,
   "metadata": {},
   "outputs": [
    {
     "name": "stdout",
     "output_type": "stream",
     "text": [
      "[ 2766398737908240373 16907878782847848245   788898195928785530\n",
      " 15916537098791121451]\n"
     ]
    },
    {
     "name": "stderr",
     "output_type": "stream",
     "text": [
      "C:\\Users\\Murav\\AppData\\Local\\Temp\\ipykernel_7068\\1684337085.py:2: RuntimeWarning: overflow encountered in scalar add\n",
      "  y0 = x0 + x1\n",
      "C:\\Users\\Murav\\AppData\\Local\\Temp\\ipykernel_7068\\22561028.py:10: RuntimeWarning: overflow encountered in scalar add\n",
      "  e[i] = v[i] + subKeys[round//4][i]\n",
      "C:\\Users\\Murav\\AppData\\Local\\Temp\\ipykernel_7068\\22561028.py:21: RuntimeWarning: overflow encountered in scalar add\n",
      "  v[i] += subKeys[Nr//4][i]\n"
     ]
    }
   ],
   "source": [
    "encrypted_blocks = np.zeros((0), np.uint64)\n",
    "for block in data_blocks:\n",
    "    e = np.zeros_like(block)\n",
    "    f = np.zeros_like(block)\n",
    "    v = np.copy(block)\n",
    "    \n",
    "    for round in range(Nr):\n",
    "        for i in range(Nw):\n",
    "            if round % 4 == 0:\n",
    "                e[i] = v[i] + subKeys[round//4][i]\n",
    "                #print(f\"subKeys[{round//4}][{i}] = {subKeys[round//4][i]}\")\n",
    "            else:\n",
    "                e[i] = v[i]\n",
    "        \n",
    "        for i in range(Nw//2):\n",
    "            f[i * 2], f[i * 2 + 1] = MIX(e[i*2], e[i*2 + 1], R[round % 8][i])\n",
    "        for i in range(Nw):\n",
    "            v[i] = f[pi[i]]\n",
    "\n",
    "    for i in range(Nw):\n",
    "        v[i] += subKeys[Nr//4][i]\n",
    "    print(v)\n",
    "    encrypted_blocks = np.append(encrypted_blocks, v)"
   ]
  },
  {
   "cell_type": "code",
   "execution_count": 411,
   "metadata": {},
   "outputs": [
    {
     "name": "stdout",
     "output_type": "stream",
     "text": [
      "[ 2766398737908240373 16907878782847848245   788898195928785530\n",
      " 15916537098791121451]\n"
     ]
    }
   ],
   "source": [
    "print(encrypted_blocks)"
   ]
  },
  {
   "cell_type": "code",
   "execution_count": null,
   "metadata": {},
   "outputs": [],
   "source": []
  }
 ],
 "metadata": {
  "kernelspec": {
   "display_name": "Python 3",
   "language": "python",
   "name": "python3"
  },
  "language_info": {
   "codemirror_mode": {
    "name": "ipython",
    "version": 3
   },
   "file_extension": ".py",
   "mimetype": "text/x-python",
   "name": "python",
   "nbconvert_exporter": "python",
   "pygments_lexer": "ipython3",
   "version": "3.10.11"
  }
 },
 "nbformat": 4,
 "nbformat_minor": 2
}
